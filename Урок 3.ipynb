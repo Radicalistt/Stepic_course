{
 "cells": [
  {
   "cell_type": "code",
   "execution_count": 15,
   "metadata": {},
   "outputs": [
    {
     "name": "stdout",
     "output_type": "stream",
     "text": [
      "-0.2979722087699345\n"
     ]
    }
   ],
   "source": [
    "\"\"\" Задание 1\n",
    "Открыть страницу http://suninjuly.github.io/explicit_wait2.html\n",
    "Дождаться, когда цена дома уменьшится до 10000 RUR (ожидание нужно установить не меньше 12 секунд)\n",
    "Нажать на кнопку \"Забронировать\"\n",
    "Решить уже известную нам математическую задачу (используйте ранее написанный код) и отправить решение\n",
    "\n",
    "\n",
    "\"\"\"\n",
    "import time\n",
    "from selenium import webdriver\n",
    "from selenium.webdriver.common.by import By\n",
    "from selenium.webdriver.support.ui import WebDriverWait #Ожидание браузера пока не будет выполнено условие\n",
    "from selenium.webdriver.support import expected_conditions as EC #Указание условия для вебдрайвера\n",
    "import math\n",
    "\n",
    "def calc(x):\n",
    "  return str(math.log(abs(12*math.sin(int(x)))))\n",
    "\n",
    "# инициализируем драйвер браузера. После этой команды вы должны увидеть новое открытое окно браузера\n",
    "path = 'C:/Program Files (x86)/Google/Chrome/Application/chromedriver.exe'\n",
    "\n",
    "#Список страниц для проверки\n",
    "page='http://suninjuly.github.io/explicit_wait2.html'\n",
    "\n",
    "driver = webdriver.Chrome(executable_path=path)\n",
    "driver.implicitly_wait(5) #Задаем максимальное ожидание по каждой операции\n",
    "driver.get(page) #Страница с формой\n",
    "\n",
    "x_element = WebDriverWait(driver, 20).until(\n",
    "    EC.text_to_be_present_in_element(locator=(By.ID, \"price\"), text_='10000 RUR')\n",
    ")\n",
    "button = driver.find_element_by_id(\"book\")\n",
    "button.click()\n",
    "\n",
    "x = driver.find_element_by_id(\"input_value\").text\n",
    "y = calc(x)\n",
    "print (y)\n",
    "\n",
    "inputelement = driver.find_element_by_id ('answer') #Поиск поля ввода\n",
    "inputelement.send_keys(y)\n",
    "\n",
    "button = driver.find_element_by_id(\"solve\")\n",
    "button.click()\n",
    "\n",
    "\n",
    "time.sleep(5)\n",
    "\n",
    "# с помощью assert проверяем, что ожидаемый текст совпадает с текстом на странице сайта    \n",
    "#driver.quit()\n"
   ]
  },
  {
   "cell_type": "code",
   "execution_count": 2,
   "metadata": {},
   "outputs": [],
   "source": []
  },
  {
   "cell_type": "code",
   "execution_count": null,
   "metadata": {},
   "outputs": [],
   "source": []
  }
 ],
 "metadata": {
  "kernelspec": {
   "display_name": "Python 3",
   "language": "python",
   "name": "python3"
  },
  "language_info": {
   "codemirror_mode": {
    "name": "ipython",
    "version": 3
   },
   "file_extension": ".py",
   "mimetype": "text/x-python",
   "name": "python",
   "nbconvert_exporter": "python",
   "pygments_lexer": "ipython3",
   "version": "3.7.0"
  }
 },
 "nbformat": 4,
 "nbformat_minor": 2
}
